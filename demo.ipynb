{
 "cells": [
  {
   "cell_type": "code",
   "execution_count": 1,
   "id": "ce00b708-b26a-4a94-a3ba-36dbee2ff5aa",
   "metadata": {},
   "outputs": [],
   "source": [
    "import json\n",
    "from pathlib import Path"
   ]
  },
  {
   "cell_type": "code",
   "execution_count": 2,
   "id": "bb33d2f2-cb52-443a-9a76-b3b8716dd7c3",
   "metadata": {},
   "outputs": [
    {
     "data": {
      "text/plain": [
       "{'channels_to_pick': ['Fz',\n",
       "  'FC3',\n",
       "  'FC1',\n",
       "  'FCz',\n",
       "  'FC2',\n",
       "  'FC4',\n",
       "  'C5',\n",
       "  'C3',\n",
       "  'C1',\n",
       "  'Cz',\n",
       "  'C2',\n",
       "  'C4',\n",
       "  'C6',\n",
       "  'CP3',\n",
       "  'CP1',\n",
       "  'CPz',\n",
       "  'CP2',\n",
       "  'CP4',\n",
       "  'P1',\n",
       "  'Pz',\n",
       "  'P2',\n",
       "  'POz'],\n",
       " 'low_cut_hz': 4,\n",
       " 'hi_cut_hz': 38,\n",
       " 'sfreq': 250,\n",
       " 'max_abs_val': 800,\n",
       " 'trial_stop_offset_samples': 500,\n",
       " 'trial_start_offset_samples': 625,\n",
       " 'n_participants': 9,\n",
       " 'scaling_factor': 1000000.0,\n",
       " 'split': {'valid': {'train': [0, 1, 2, 3, 4], 'test': [5]},\n",
       "  'eval': {'train': [0, 1, 2, 3, 4, 5], 'test': [6, 7, 8, 9, 10, 11]}},\n",
       " 'batch_size': 120}"
      ]
     },
     "execution_count": 2,
     "metadata": {},
     "output_type": "execute_result"
    }
   ],
   "source": [
    "dataset_name = 'BNCI2014_001'\n",
    "dataset_p = Path('datasets', f'{dataset_name}.json')\n",
    "with open(dataset_p, 'r') as h:\n",
    "    dataset_cfg = json.load(h)\n",
    "    \n",
    "dataset_cfg\n",
    "# trial offset samples is offset by 0.5s due to bug in braindecode\n",
    "# TODO: check newer version and udpate?"
   ]
  },
  {
   "cell_type": "code",
   "execution_count": 3,
   "id": "a801708a-7172-429c-bd3b-e0690f7fafeb",
   "metadata": {},
   "outputs": [
    {
     "name": "stderr",
     "output_type": "stream",
     "text": [
      "<frozen importlib._bootstrap>:241: FutureWarning: mne.io.pick.pick_types is deprecated will be removed in 1.6, use documented public API instead. If no appropriate public API exists, please open an issue on GitHub.\n",
      "<frozen importlib._bootstrap>:241: FutureWarning: mne.io.pick.pick_channels_regexp is deprecated will be removed in 1.6, use documented public API instead. If no appropriate public API exists, please open an issue on GitHub.\n",
      "<frozen importlib._bootstrap>:241: FutureWarning: mne.io.pick.channel_type is deprecated will be removed in 1.6, use documented public API instead. If no appropriate public API exists, please open an issue on GitHub.\n",
      "/opt/conda/envs/eegspd-env-v3/lib/python3.10/site-packages/moabb/pipelines/__init__.py:26: ModuleNotFoundError: Tensorflow is not installed. You won't be able to use these MOABB pipelines if you attempt to do so.\n",
      "  warn(\n"
     ]
    },
    {
     "name": "stdout",
     "output_type": "stream",
     "text": [
      "Downloading BNCI2014_001 S1...\n",
      "Doing prepro...\n",
      "NOTE: pick_channels() is a legacy function. New code should use inst.pick(...).\n",
      "Sampling frequency of the instance is already 250.0, returning unmodified.\n",
      "Filtering raw data in 1 contiguous segment\n",
      "Setting up band-pass filter from 4 - 38 Hz\n",
      "\n",
      "FIR filter parameters\n",
      "---------------------\n",
      "Designing a one-pass, zero-phase, non-causal bandpass filter:\n",
      "- Windowed time-domain design (firwin) method\n",
      "- Hamming window with 0.0194 passband ripple and 53 dB stopband attenuation\n",
      "- Lower passband edge: 4.00\n",
      "- Lower transition bandwidth: 2.00 Hz (-6 dB cutoff frequency: 3.00 Hz)\n",
      "- Upper passband edge: 38.00 Hz\n",
      "- Upper transition bandwidth: 9.50 Hz (-6 dB cutoff frequency: 42.75 Hz)\n",
      "- Filter length: 413 samples (1.652 s)\n",
      "\n",
      "NOTE: pick_channels() is a legacy function. New code should use inst.pick(...).\n",
      "Sampling frequency of the instance is already 250.0, returning unmodified.\n",
      "Filtering raw data in 1 contiguous segment\n",
      "Setting up band-pass filter from 4 - 38 Hz\n",
      "\n",
      "FIR filter parameters\n",
      "---------------------\n",
      "Designing a one-pass, zero-phase, non-causal bandpass filter:\n",
      "- Windowed time-domain design (firwin) method\n",
      "- Hamming window with 0.0194 passband ripple and 53 dB stopband attenuation\n",
      "- Lower passband edge: 4.00\n",
      "- Lower transition bandwidth: 2.00 Hz (-6 dB cutoff frequency: 3.00 Hz)\n",
      "- Upper passband edge: 38.00 Hz\n",
      "- Upper transition bandwidth: 9.50 Hz (-6 dB cutoff frequency: 42.75 Hz)\n",
      "- Filter length: 413 samples (1.652 s)\n",
      "\n"
     ]
    },
    {
     "name": "stderr",
     "output_type": "stream",
     "text": [
      "/opt/conda/envs/eegspd-env-v3/lib/python3.10/site-packages/braindecode/preprocessing/preprocess.py:55: UserWarning: Preprocessing choices with lambda functions cannot be saved.\n",
      "  warn('Preprocessing choices with lambda functions cannot be saved.')\n",
      "[Parallel(n_jobs=1)]: Done  17 tasks      | elapsed:    0.1s\n"
     ]
    },
    {
     "name": "stdout",
     "output_type": "stream",
     "text": [
      "NOTE: pick_channels() is a legacy function. New code should use inst.pick(...).\n",
      "Sampling frequency of the instance is already 250.0, returning unmodified.\n",
      "Filtering raw data in 1 contiguous segment\n",
      "Setting up band-pass filter from 4 - 38 Hz\n",
      "\n",
      "FIR filter parameters\n",
      "---------------------\n",
      "Designing a one-pass, zero-phase, non-causal bandpass filter:\n",
      "- Windowed time-domain design (firwin) method\n",
      "- Hamming window with 0.0194 passband ripple and 53 dB stopband attenuation\n",
      "- Lower passband edge: 4.00\n",
      "- Lower transition bandwidth: 2.00 Hz (-6 dB cutoff frequency: 3.00 Hz)\n",
      "- Upper passband edge: 38.00 Hz\n",
      "- Upper transition bandwidth: 9.50 Hz (-6 dB cutoff frequency: 42.75 Hz)\n",
      "- Filter length: 413 samples (1.652 s)\n",
      "\n",
      "NOTE: pick_channels() is a legacy function. New code should use inst.pick(...).\n",
      "Sampling frequency of the instance is already 250.0, returning unmodified.\n",
      "Filtering raw data in 1 contiguous segment\n",
      "Setting up band-pass filter from 4 - 38 Hz\n",
      "\n",
      "FIR filter parameters\n",
      "---------------------\n",
      "Designing a one-pass, zero-phase, non-causal bandpass filter:\n",
      "- Windowed time-domain design (firwin) method\n",
      "- Hamming window with 0.0194 passband ripple and 53 dB stopband attenuation\n",
      "- Lower passband edge: 4.00\n",
      "- Lower transition bandwidth: 2.00 Hz (-6 dB cutoff frequency: 3.00 Hz)\n",
      "- Upper passband edge: 38.00 Hz\n",
      "- Upper transition bandwidth: 9.50 Hz (-6 dB cutoff frequency: 42.75 Hz)\n",
      "- Filter length: 413 samples (1.652 s)\n",
      "\n"
     ]
    },
    {
     "name": "stderr",
     "output_type": "stream",
     "text": [
      "[Parallel(n_jobs=1)]: Done  17 tasks      | elapsed:    0.1s\n",
      "[Parallel(n_jobs=1)]: Done  17 tasks      | elapsed:    0.1s\n"
     ]
    },
    {
     "name": "stdout",
     "output_type": "stream",
     "text": [
      "NOTE: pick_channels() is a legacy function. New code should use inst.pick(...).\n",
      "Sampling frequency of the instance is already 250.0, returning unmodified.\n",
      "Filtering raw data in 1 contiguous segment\n",
      "Setting up band-pass filter from 4 - 38 Hz\n",
      "\n",
      "FIR filter parameters\n",
      "---------------------\n",
      "Designing a one-pass, zero-phase, non-causal bandpass filter:\n",
      "- Windowed time-domain design (firwin) method\n",
      "- Hamming window with 0.0194 passband ripple and 53 dB stopband attenuation\n",
      "- Lower passband edge: 4.00\n",
      "- Lower transition bandwidth: 2.00 Hz (-6 dB cutoff frequency: 3.00 Hz)\n",
      "- Upper passband edge: 38.00 Hz\n",
      "- Upper transition bandwidth: 9.50 Hz (-6 dB cutoff frequency: 42.75 Hz)\n",
      "- Filter length: 413 samples (1.652 s)\n",
      "\n",
      "NOTE: pick_channels() is a legacy function. New code should use inst.pick(...).\n",
      "Sampling frequency of the instance is already 250.0, returning unmodified.\n",
      "Filtering raw data in 1 contiguous segment\n",
      "Setting up band-pass filter from 4 - 38 Hz\n",
      "\n",
      "FIR filter parameters\n",
      "---------------------\n",
      "Designing a one-pass, zero-phase, non-causal bandpass filter:\n",
      "- Windowed time-domain design (firwin) method\n",
      "- Hamming window with 0.0194 passband ripple and 53 dB stopband attenuation\n",
      "- Lower passband edge: 4.00\n",
      "- Lower transition bandwidth: 2.00 Hz (-6 dB cutoff frequency: 3.00 Hz)\n",
      "- Upper passband edge: 38.00 Hz\n",
      "- Upper transition bandwidth: 9.50 Hz (-6 dB cutoff frequency: 42.75 Hz)\n",
      "- Filter length: 413 samples (1.652 s)\n",
      "\n"
     ]
    },
    {
     "name": "stderr",
     "output_type": "stream",
     "text": [
      "[Parallel(n_jobs=1)]: Done  17 tasks      | elapsed:    0.1s\n",
      "[Parallel(n_jobs=1)]: Done  17 tasks      | elapsed:    0.1s\n"
     ]
    },
    {
     "name": "stdout",
     "output_type": "stream",
     "text": [
      "NOTE: pick_channels() is a legacy function. New code should use inst.pick(...).\n",
      "Sampling frequency of the instance is already 250.0, returning unmodified.\n",
      "Filtering raw data in 1 contiguous segment\n",
      "Setting up band-pass filter from 4 - 38 Hz\n",
      "\n",
      "FIR filter parameters\n",
      "---------------------\n",
      "Designing a one-pass, zero-phase, non-causal bandpass filter:\n",
      "- Windowed time-domain design (firwin) method\n",
      "- Hamming window with 0.0194 passband ripple and 53 dB stopband attenuation\n",
      "- Lower passband edge: 4.00\n",
      "- Lower transition bandwidth: 2.00 Hz (-6 dB cutoff frequency: 3.00 Hz)\n",
      "- Upper passband edge: 38.00 Hz\n",
      "- Upper transition bandwidth: 9.50 Hz (-6 dB cutoff frequency: 42.75 Hz)\n",
      "- Filter length: 413 samples (1.652 s)\n",
      "\n",
      "NOTE: pick_channels() is a legacy function. New code should use inst.pick(...).\n"
     ]
    },
    {
     "name": "stderr",
     "output_type": "stream",
     "text": [
      "[Parallel(n_jobs=1)]: Done  17 tasks      | elapsed:    0.1s\n",
      "[Parallel(n_jobs=1)]: Done  17 tasks      | elapsed:    0.1s\n"
     ]
    },
    {
     "name": "stdout",
     "output_type": "stream",
     "text": [
      "Sampling frequency of the instance is already 250.0, returning unmodified.\n",
      "Filtering raw data in 1 contiguous segment\n",
      "Setting up band-pass filter from 4 - 38 Hz\n",
      "\n",
      "FIR filter parameters\n",
      "---------------------\n",
      "Designing a one-pass, zero-phase, non-causal bandpass filter:\n",
      "- Windowed time-domain design (firwin) method\n",
      "- Hamming window with 0.0194 passband ripple and 53 dB stopband attenuation\n",
      "- Lower passband edge: 4.00\n",
      "- Lower transition bandwidth: 2.00 Hz (-6 dB cutoff frequency: 3.00 Hz)\n",
      "- Upper passband edge: 38.00 Hz\n",
      "- Upper transition bandwidth: 9.50 Hz (-6 dB cutoff frequency: 42.75 Hz)\n",
      "- Filter length: 413 samples (1.652 s)\n",
      "\n",
      "NOTE: pick_channels() is a legacy function. New code should use inst.pick(...).\n",
      "Sampling frequency of the instance is already 250.0, returning unmodified.\n",
      "Filtering raw data in 1 contiguous segment\n",
      "Setting up band-pass filter from 4 - 38 Hz\n",
      "\n",
      "FIR filter parameters\n",
      "---------------------\n",
      "Designing a one-pass, zero-phase, non-causal bandpass filter:\n",
      "- Windowed time-domain design (firwin) method\n",
      "- Hamming window with 0.0194 passband ripple and 53 dB stopband attenuation\n",
      "- Lower passband edge: 4.00\n",
      "- Lower transition bandwidth: 2.00 Hz (-6 dB cutoff frequency: 3.00 Hz)\n",
      "- Upper passband edge: 38.00 Hz\n",
      "- Upper transition bandwidth: 9.50 Hz (-6 dB cutoff frequency: 42.75 Hz)\n",
      "- Filter length: 413 samples (1.652 s)\n",
      "\n",
      "NOTE: pick_channels() is a legacy function. New code should use inst.pick(...).\n",
      "Sampling frequency of the instance is already 250.0, returning unmodified.\n"
     ]
    },
    {
     "name": "stderr",
     "output_type": "stream",
     "text": [
      "[Parallel(n_jobs=1)]: Done  17 tasks      | elapsed:    0.1s\n",
      "[Parallel(n_jobs=1)]: Done  17 tasks      | elapsed:    0.1s\n"
     ]
    },
    {
     "name": "stdout",
     "output_type": "stream",
     "text": [
      "Filtering raw data in 1 contiguous segment\n",
      "Setting up band-pass filter from 4 - 38 Hz\n",
      "\n",
      "FIR filter parameters\n",
      "---------------------\n",
      "Designing a one-pass, zero-phase, non-causal bandpass filter:\n",
      "- Windowed time-domain design (firwin) method\n",
      "- Hamming window with 0.0194 passband ripple and 53 dB stopband attenuation\n",
      "- Lower passband edge: 4.00\n",
      "- Lower transition bandwidth: 2.00 Hz (-6 dB cutoff frequency: 3.00 Hz)\n",
      "- Upper passband edge: 38.00 Hz\n",
      "- Upper transition bandwidth: 9.50 Hz (-6 dB cutoff frequency: 42.75 Hz)\n",
      "- Filter length: 413 samples (1.652 s)\n",
      "\n",
      "NOTE: pick_channels() is a legacy function. New code should use inst.pick(...).\n",
      "Sampling frequency of the instance is already 250.0, returning unmodified.\n",
      "Filtering raw data in 1 contiguous segment\n",
      "Setting up band-pass filter from 4 - 38 Hz\n",
      "\n",
      "FIR filter parameters\n",
      "---------------------\n",
      "Designing a one-pass, zero-phase, non-causal bandpass filter:\n",
      "- Windowed time-domain design (firwin) method\n",
      "- Hamming window with 0.0194 passband ripple and 53 dB stopband attenuation\n",
      "- Lower passband edge: 4.00\n",
      "- Lower transition bandwidth: 2.00 Hz (-6 dB cutoff frequency: 3.00 Hz)\n",
      "- Upper passband edge: 38.00 Hz\n",
      "- Upper transition bandwidth: 9.50 Hz (-6 dB cutoff frequency: 42.75 Hz)\n",
      "- Filter length: 413 samples (1.652 s)\n",
      "\n",
      "NOTE: pick_channels() is a legacy function. New code should use inst.pick(...).\n"
     ]
    },
    {
     "name": "stderr",
     "output_type": "stream",
     "text": [
      "[Parallel(n_jobs=1)]: Done  17 tasks      | elapsed:    0.1s\n",
      "[Parallel(n_jobs=1)]: Done  17 tasks      | elapsed:    0.1s\n"
     ]
    },
    {
     "name": "stdout",
     "output_type": "stream",
     "text": [
      "Sampling frequency of the instance is already 250.0, returning unmodified.\n",
      "Filtering raw data in 1 contiguous segment\n",
      "Setting up band-pass filter from 4 - 38 Hz\n",
      "\n",
      "FIR filter parameters\n",
      "---------------------\n",
      "Designing a one-pass, zero-phase, non-causal bandpass filter:\n",
      "- Windowed time-domain design (firwin) method\n",
      "- Hamming window with 0.0194 passband ripple and 53 dB stopband attenuation\n",
      "- Lower passband edge: 4.00\n",
      "- Lower transition bandwidth: 2.00 Hz (-6 dB cutoff frequency: 3.00 Hz)\n",
      "- Upper passband edge: 38.00 Hz\n",
      "- Upper transition bandwidth: 9.50 Hz (-6 dB cutoff frequency: 42.75 Hz)\n",
      "- Filter length: 413 samples (1.652 s)\n",
      "\n",
      "Used Annotations descriptions: ['feet', 'left_hand', 'right_hand', 'tongue']\n",
      "Used Annotations descriptions: ['feet', 'left_hand', 'right_hand', 'tongue']\n",
      "Used Annotations descriptions: ['feet', 'left_hand', 'right_hand', 'tongue']\n",
      "Used Annotations descriptions: ['feet', 'left_hand', 'right_hand', 'tongue']\n",
      "Used Annotations descriptions: ['feet', 'left_hand', 'right_hand', 'tongue']\n",
      "Used Annotations descriptions: ['feet', 'left_hand', 'right_hand', 'tongue']\n",
      "Used Annotations descriptions: ['feet', 'left_hand', 'right_hand', 'tongue']\n",
      "Used Annotations descriptions: ['feet', 'left_hand', 'right_hand', 'tongue']\n",
      "Used Annotations descriptions: ['feet', 'left_hand', 'right_hand', 'tongue']\n",
      "Used Annotations descriptions: ['feet', 'left_hand', 'right_hand', 'tongue']\n",
      "Used Annotations descriptions: ['feet', 'left_hand', 'right_hand', 'tongue']\n",
      "Used Annotations descriptions: ['feet', 'left_hand', 'right_hand', 'tongue']\n",
      "windows_dataset.description=    subject session run\n",
      "0         1  0train   0\n",
      "1         1  0train   1\n",
      "2         1  0train   2\n",
      "3         1  0train   3\n",
      "4         1  0train   4\n",
      "5         1  0train   5\n",
      "6         1   1test   0\n",
      "7         1   1test   1\n",
      "8         1   1test   2\n",
      "9         1   1test   3\n",
      "10        1   1test   4\n",
      "11        1   1test   5\n",
      "{'train': [0, 1, 2, 3, 4], 'test': [5]}\n"
     ]
    },
    {
     "name": "stderr",
     "output_type": "stream",
     "text": [
      "[Parallel(n_jobs=1)]: Done  17 tasks      | elapsed:    0.1s\n"
     ]
    }
   ],
   "source": [
    "from data.get import get_dataset_from_cfg\n",
    "dataset_cfg['subject_id'] = 1\n",
    "dataset_cfg['dataset'] = dataset_name\n",
    "mode= 'valid'\n",
    "\n",
    "train_set, test_set = get_dataset_from_cfg(cfg=dataset_cfg, mode=mode)"
   ]
  },
  {
   "cell_type": "code",
   "execution_count": 4,
   "id": "42be62bb-83de-416a-aadd-fa879caced4f",
   "metadata": {},
   "outputs": [
    {
     "name": "stdout",
     "output_type": "stream",
     "text": [
      "n_batches=2, classes={0, 1, 2, 3}\n"
     ]
    }
   ],
   "source": [
    "from torch.utils.data import Subset\n",
    "\n",
    "if isinstance(train_set, Subset):\n",
    "    classes = set(train_set.dataset.get_metadata().target)\n",
    "else:\n",
    "    # will already raise exception if get_metadata isn't there\n",
    "    classes = set(train_set.get_metadata().target)\n",
    "    assert set(train_set.get_metadata().target) == set(test_set.get_metadata().target)\n",
    "\n",
    "n_elecs = len(dataset_cfg['channels_to_pick'])\n",
    "n_classes = len(classes)\n",
    "n_batches = len(train_set) // dataset_cfg['batch_size']\n",
    "print(f'{n_batches=}, {classes=}')"
   ]
  },
  {
   "cell_type": "code",
   "execution_count": 5,
   "id": "0c5e7c17-4342-4ce6-8b43-38a2af2da3a0",
   "metadata": {},
   "outputs": [
    {
     "data": {
      "text/plain": [
       "{'Deep4Net': braindecode.models.deep4.Deep4Net,\n",
       " 'EEGNetv4': braindecode.models.eegnet.EEGNetv4,\n",
       " 'EEGSPDNet_ChInd': eegspd.models.eegspdnet_chind.EEGSPDNet_ChInd,\n",
       " 'EEGSPDNet_ChInd_RmInt': eegspd.models.eegspdnet_chind_rmint.EEGSPDNet_ChInd_RmInt,\n",
       " 'EEGSPDNet_ChInd_RmInt_KeepIntEl': eegspd.models.eegspdnet_chind_rmint_keepintel.EEGSPDNet_ChInd_RmInt_KeepIntEl,\n",
       " 'EEGSPDNet_ChInd_Sinc': eegspd.models.eegspdnet_chind_sinc.EEGSPDNet_ChInd_Sinc,\n",
       " 'EEGSPDNet_ChInd_Sinc_RmInt': eegspd.models.eegspdnet_chind_sinc_rmint.EEGSPDNet_ChInd_Sinc_RmInt,\n",
       " 'EEGSPDNet_ChInd_Sinc_RmInt_KeepIntEl': eegspd.models.eegspdnet_chind_sinc_rmint_keepintel.EEGSPDNet_ChInd_Sinc_RmInt_KeepIntEl,\n",
       " 'EEGSPDNet_ChSpec': eegspd.models.eegspdnet_chspec.EEGSPDNet_ChSpec,\n",
       " 'EEGSPDNet_ChSpec_Sinc': eegspd.models.eegspdnet_chspec_sinc.EEGSPDNet_ChSpec_Sinc,\n",
       " 'FBSPDNet': eegspd.models.fbspdnet.FBSPDNet,\n",
       " 'ShallowFBCSPNet': braindecode.models.shallow_fbcsp.ShallowFBCSPNet,\n",
       " 'TSMNet': eegspd.models.tsmnet.TSMNet}"
      ]
     },
     "execution_count": 5,
     "metadata": {},
     "output_type": "execute_result"
    }
   ],
   "source": [
    "from eegspd.models.util import models_dict\n",
    "models_dict"
   ]
  },
  {
   "cell_type": "code",
   "execution_count": 6,
   "id": "61fa451d-bc9b-4bd2-b402-da6aee18ba45",
   "metadata": {},
   "outputs": [
    {
     "data": {
      "text/plain": [
       "{'dataset': 'BNCI2014_001',\n",
       " 'mode': 'valid',\n",
       " 'lr': 0.001,\n",
       " 'wd': 0.001,\n",
       " 'n_filters': 8,\n",
       " 'model': 'EEGSPDNet_ChSpec',\n",
       " 'fb_path': None,\n",
       " 'optim': 'RiemannianAdam',\n",
       " 'seeds': [114, 236, 7934],\n",
       " 'n_epochs': 1000,\n",
       " 'checkpoints': [100, 500],\n",
       " 'results_dir': 'results',\n",
       " 'final_layer_drop_prob': 0,\n",
       " 'bimap_sizes_k': 2,\n",
       " 'bimap_sizes_n': 3,\n",
       " 'run_analyses': False,\n",
       " 'post_hoc_analysis': False,\n",
       " 'exclude_analyses': []}"
      ]
     },
     "execution_count": 6,
     "metadata": {},
     "output_type": "execute_result"
    }
   ],
   "source": [
    "from eegspd.args import parser\n",
    "\n",
    "\n",
    "args = [\n",
    "    '--model', 'EEGSPDNet_ChSpec',\n",
    "    '--dataset', dataset_name,\n",
    "    '--mode', mode,\n",
    "    '-lr', str(1e-3),\n",
    "    '-wd', str(1e-3),  # placeholder vals, double check\n",
    "    '--results-dir', 'results',\n",
    "    '-nf',str(8)\n",
    "]\n",
    "cfg = vars(parser.parse_args(args))\n",
    "cfg"
   ]
  },
  {
   "cell_type": "code",
   "execution_count": 7,
   "id": "76921bfe-8e47-4860-af4c-08a93d766954",
   "metadata": {},
   "outputs": [
    {
     "name": "stdout",
     "output_type": "stream",
     "text": [
      "Model ignoring these passed args: {'sfreq': 250, 'dataset': 'BNCI2014_001', 'mode': 'valid', 'lr': 0.001, 'wd': 0.001, 'model': 'EEGSPDNet_ChSpec', 'fb_path': None, 'optim': 'RiemannianAdam', 'seeds': [114, 236, 7934], 'n_epochs': 1000, 'checkpoints': [100, 500], 'results_dir': 'results', 'bimap_sizes_k': 2, 'bimap_sizes_n': 3, 'run_analyses': False, 'post_hoc_analysis': False, 'exclude_analyses': []}\n",
      "Doing bimap sizes with k=2 and n_bimap_reeig=3\n",
      "Doing bimap sizes with k=2 and n_bimap_reeig=3\n",
      "bimap_sizes_ls=[176, 88, 44, 22]\n",
      "adding bimap (176, 88)\n",
      "adding bimap (88, 44)\n",
      "adding bimap (44, 22)\n"
     ]
    }
   ],
   "source": [
    "model = models_dict[cfg['model']](\n",
    "        n_classes=n_classes,\n",
    "        n_chans=n_elecs,\n",
    "        sfreq=dataset_cfg['sfreq'],  # Needed for SincNet models\n",
    "        **cfg\n",
    "    )"
   ]
  },
  {
   "cell_type": "code",
   "execution_count": 8,
   "id": "22ec8a90-93e5-4611-97e3-ded49fd6c34a",
   "metadata": {},
   "outputs": [],
   "source": [
    "import torch\n",
    "from torch import nn as nn\n",
    "from torch.optim import Adam\n",
    "from torch.optim.lr_scheduler import CosineAnnealingLR\n",
    "from torch.utils.data import DataLoader\n",
    "from geoopt.optim import RiemannianAdam\n",
    "\n",
    "optims = {\n",
    "        'Adam': Adam,\n",
    "        'RiemannianAdam': RiemannianAdam,\n",
    "    }\n",
    "optim = optims[cfg['optim']](model.parameters(), lr=cfg['lr'], weight_decay=cfg['wd'])\n",
    "scheduler = CosineAnnealingLR(optimizer=optim, T_max=cfg['n_epochs'] * n_batches)\n",
    "criterion = nn.CrossEntropyLoss() "
   ]
  },
  {
   "cell_type": "code",
   "execution_count": 9,
   "id": "a3362980-2476-4c93-a8fc-4b11a896448d",
   "metadata": {},
   "outputs": [],
   "source": [
    "train_loader = DataLoader(train_set, batch_size=dataset_cfg['batch_size'], shuffle=True, drop_last=True)\n",
    "test_loader = DataLoader(test_set, batch_size=dataset_cfg['batch_size'], shuffle=False, drop_last=False)"
   ]
  },
  {
   "cell_type": "code",
   "execution_count": 10,
   "id": "6d92aec0-3388-4612-b731-8b9f09ac3ea8",
   "metadata": {},
   "outputs": [],
   "source": [
    "from time import time\n",
    "import pandas as pd\n",
    "def train(model, train_loader, optim, criterion, scheduler):\n",
    "    model.train()\n",
    "    train_loss, correct, total = 0, 0, 0\n",
    "    y_trues, y_preds = [], []\n",
    "    for batch_index, (X, y, _) in enumerate(train_loader):\n",
    "        optim.zero_grad()\n",
    "\n",
    "        logits = model(X)\n",
    "        loss = criterion(logits, y)\n",
    "\n",
    "        loss.backward()\n",
    "        optim.step()\n",
    "        scheduler.step()  # TODO: get lr, add to history\n",
    "\n",
    "        _, y_pred = torch.max(logits.data, 1)\n",
    "        total += y.size(0)\n",
    "        correct += y_pred.eq(y.data).cpu().sum().data.item()\n",
    "\n",
    "        train_loss += loss.data.item()\n",
    "\n",
    "        y_trues.append(y)\n",
    "        y_preds.append(y_pred)\n",
    "\n",
    "    n_batches = batch_index + 1\n",
    "    final_loss = train_loss / n_batches\n",
    "    acc = correct / total\n",
    "    y_trues = torch.cat(y_trues, dim=0).tolist()\n",
    "    y_preds = torch.cat(y_preds, dim=0).tolist()\n",
    "\n",
    "    return dict(train_loss=final_loss, train_acc=acc, train_y_true=y_trues, train_y_pred=y_preds)\n",
    "\n",
    "\n",
    "def test(model, test_loader, criterion):\n",
    "    model.eval()\n",
    "\n",
    "    test_loss, correct, total = 0, 0, 0\n",
    "    y_trues, y_preds = [], []\n",
    "\n",
    "    with torch.no_grad():\n",
    "        for batch_index, (X, y, _) in enumerate(test_loader):\n",
    "            logits = model(X)\n",
    "            loss = criterion(logits, y)\n",
    "\n",
    "            test_loss += loss.data.item()\n",
    "            _, y_pred = torch.max(logits.data, 1)\n",
    "            total += y.size(0)\n",
    "            correct += y_pred.eq(y.data).cpu().sum().data.item()\n",
    "\n",
    "            y_trues.append(y)\n",
    "            y_preds.append(y_pred)\n",
    "\n",
    "    n_batches = batch_index + 1\n",
    "    final_loss = test_loss / n_batches\n",
    "    acc = correct / total\n",
    "    y_trues = torch.cat(y_trues, dim=0).tolist()\n",
    "    y_preds = torch.cat(y_preds, dim=0).tolist()\n",
    "\n",
    "    return dict(test_loss=final_loss, test_acc=acc, test_y_true=y_trues, test_y_pred=y_preds)\n",
    "\n",
    "\n",
    "def run_one_epoch(train_fn, test_fn, model, train_loader, test_loader, optim, criterion, scheduler):\n",
    "    start = time()\n",
    "    train_res = train_fn(model=model, train_loader=train_loader, optim=optim, criterion=criterion, scheduler=scheduler)\n",
    "    test_res = test_fn(model=model, test_loader=test_loader, criterion=criterion)\n",
    "    dur = time() - start\n",
    "    return {'epoch_dur_s': dur, **train_res, **test_res}\n",
    "\n",
    "\n",
    "def checkpoint_model(savedir, epoch, model, optim, scheduler):\n",
    "    print(f'Checkpointing at {epoch=}')\n",
    "    to_save = {\n",
    "        'model': model.state_dict(),\n",
    "        'optim': optim.state_dict(),\n",
    "        'scheduler': scheduler.state_dict(),\n",
    "    }\n",
    "    torch.save(to_save, savedir.joinpath(f'checkpoint_{epoch}.pth'))\n",
    "\n",
    "\n",
    "def run_model(savedir, n_epochs, checkpoints, train_fn, test_fn, model, train_loader, test_loader, optim, criterion, scheduler):\n",
    "    assert savedir.exists()\n",
    "\n",
    "    history_ls = []\n",
    "\n",
    "    # no checkpoints\n",
    "    if len(checkpoints) == 1 and checkpoints[0] == n_epochs:\n",
    "        checkpoints = []\n",
    "\n",
    "    for epoch in range(1, n_epochs + 1):\n",
    "        res = run_one_epoch(\n",
    "            train_fn=train_fn,\n",
    "            test_fn=test_fn,\n",
    "            model=model,\n",
    "            train_loader=train_loader,\n",
    "            test_loader=test_loader,\n",
    "            optim=optim,\n",
    "            criterion=criterion,\n",
    "            scheduler=scheduler\n",
    "        )\n",
    "\n",
    "        history_ls.append({'epoch': epoch, **res})\n",
    "\n",
    "        if epoch in checkpoints:\n",
    "            checkpoint_model(\n",
    "                savedir=savedir,\n",
    "                epoch=epoch,\n",
    "                model=model,\n",
    "                optim=optim,\n",
    "                scheduler=scheduler\n",
    "            )\n",
    "    checkpoint_model(\n",
    "        savedir=savedir,\n",
    "        epoch=epoch,\n",
    "        model=model,\n",
    "        optim=optim,\n",
    "        scheduler=scheduler\n",
    "    )\n",
    "    history = pd.DataFrame(history_ls)\n",
    "    history.to_csv(savedir.joinpath('history.csv'), index=False)"
   ]
  },
  {
   "cell_type": "code",
   "execution_count": 11,
   "id": "af003b24-b0b5-4bc1-a04c-30156b1788d2",
   "metadata": {},
   "outputs": [],
   "source": [
    "results_dir = Path('results')\n",
    "results_dir.mkdir(exist_ok=True)\n",
    "\n"
   ]
  },
  {
   "cell_type": "code",
   "execution_count": 12,
   "id": "d16c6e30-9ba9-49ca-82d0-2b099ef5e32a",
   "metadata": {},
   "outputs": [
    {
     "name": "stdout",
     "output_type": "stream",
     "text": [
      "Checkpointing at epoch=100\n"
     ]
    }
   ],
   "source": [
    "run_model(\n",
    "    model=model,\n",
    "    savedir=results_dir,\n",
    "    n_epochs=100,\n",
    "    checkpoints=[100],\n",
    "    train_fn=train,\n",
    "    test_fn=test,\n",
    "    train_loader=train_loader,\n",
    "    test_loader=test_loader,\n",
    "    optim=optim,\n",
    "    criterion=criterion,\n",
    "    scheduler=scheduler\n",
    ")"
   ]
  },
  {
   "cell_type": "code",
   "execution_count": 13,
   "id": "4db6eedf-656b-4690-9bdc-935058d4d349",
   "metadata": {},
   "outputs": [],
   "source": [
    "df = pd.read_csv('results/history.csv')"
   ]
  },
  {
   "cell_type": "code",
   "execution_count": null,
   "id": "ad30935b-7759-432b-94ad-cfb91f8035db",
   "metadata": {},
   "outputs": [],
   "source": []
  }
 ],
 "metadata": {
  "kernelspec": {
   "display_name": "Python [conda env:eegspd-env-v3]",
   "language": "python",
   "name": "conda-env-eegspd-env-v3-py"
  },
  "language_info": {
   "codemirror_mode": {
    "name": "ipython",
    "version": 3
   },
   "file_extension": ".py",
   "mimetype": "text/x-python",
   "name": "python",
   "nbconvert_exporter": "python",
   "pygments_lexer": "ipython3",
   "version": "3.10.13"
  }
 },
 "nbformat": 4,
 "nbformat_minor": 5
}
